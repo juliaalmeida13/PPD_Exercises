{
  "nbformat": 4,
  "nbformat_minor": 0,
  "metadata": {
    "colab": {
      "provenance": [],
      "include_colab_link": true
    },
    "kernelspec": {
      "name": "python3",
      "display_name": "Python 3"
    }
  },
  "cells": [
    {
      "cell_type": "markdown",
      "metadata": {
        "id": "view-in-github",
        "colab_type": "text"
      },
      "source": [
        "<a href=\"https://colab.research.google.com/github/juliaalmeida13/PPD_Exercises/blob/main/Exercicios_MPI.ipynb\" target=\"_parent\"><img src=\"https://colab.research.google.com/assets/colab-badge.svg\" alt=\"Open In Colab\"/></a>"
      ]
    },
    {
      "cell_type": "markdown",
      "metadata": {
        "id": "Zu7CnSM6WTQa"
      },
      "source": [
        "# Cálculo de Pi por integral utilizando MPI\n"
      ]
    },
    {
      "cell_type": "markdown",
      "metadata": {
        "id": "OoUr5VSI1a3t"
      },
      "source": []
    },
    {
      "cell_type": "code",
      "source": [
        "%%writefile pi_seq.c\n",
        "\n",
        "/*\n",
        "    This program calculates pi.\n",
        "    In order to do that, we compute the integral of:\n",
        "    4 / (1 + x * x)\n",
        "    from 0 to 1.\n",
        "    The value of this integral is pi.\n",
        "    Based on Tim Mattson's (11/99) sequential implementation.\n",
        "*/\n",
        "\n",
        "#include <stdio.h>\n",
        "#include <stdlib.h>\n",
        "#include <time.h>\n",
        "#include <sys/time.h>\n",
        "\n",
        "int main(int argc, char *argv[]) {\n",
        "\n",
        "    if(argc != 2){\n",
        "        printf(\"Usage: ./pi_seq N\\n\");\n",
        "        printf(\"N: Number of steps\\n\");\n",
        "        exit(-1);\n",
        "    }\n",
        "\n",
        "    // variables to measure execution time\n",
        "    struct timeval time_start;\n",
        "    struct timeval time_end;\n",
        "\n",
        "    // get the start time\n",
        "    gettimeofday(&time_start, NULL);\n",
        "\n",
        "    int num_steps = atoi(argv[1]);\n",
        "    double x, sum = 0.0;\n",
        "    double step = 1.0 / (double) num_steps;\n",
        "\n",
        "    for(int i = 1; i <= num_steps; i++){\n",
        "        x = (i - 0.5) * step;\n",
        "        sum += 4.0 / (1.0 + x * x);\n",
        "    }\n",
        "\n",
        "    double pi = step * sum;\n",
        "\n",
        "    // get the end time\n",
        "    gettimeofday(&time_end, NULL);\n",
        "\n",
        "    double exec_time = (double) (time_end.tv_sec - time_start.tv_sec) +\n",
        "                       (double) (time_end.tv_usec - time_start.tv_usec) / 1000000.0;\n",
        "\n",
        "    printf(\"pi with %d steps is %.9lf in %lf seconds\\n\", num_steps, pi, exec_time);\n",
        "\n",
        "    return 0;\n",
        "}"
      ],
      "metadata": {
        "colab": {
          "base_uri": "https://localhost:8080/"
        },
        "id": "wr0Ne1AZRca1",
        "outputId": "a6f54180-dbc3-42c3-907b-3dd25578a8ec"
      },
      "execution_count": null,
      "outputs": [
        {
          "output_type": "stream",
          "name": "stdout",
          "text": [
            "Overwriting pi_seq.c\n"
          ]
        }
      ]
    },
    {
      "cell_type": "code",
      "source": [
        "# !if [ ! -e mult ]; then mpicc -Wall mult.c -o mult ; fi\n",
        "! gcc -Wall pi_seq.c -o pi_seq\n",
        "# Execução com medição de tempo pelo comando time. Observe o tempo total decorrido (real)\n",
        "! ./pi_seq 1000000000"
      ],
      "metadata": {
        "colab": {
          "base_uri": "https://localhost:8080/"
        },
        "id": "D6ads84TR4Mf",
        "outputId": "1004ba0c-22af-413d-87f4-ec7001c331f5"
      },
      "execution_count": null,
      "outputs": [
        {
          "output_type": "stream",
          "name": "stdout",
          "text": [
            "pi with 1000000000 steps is 3.141592654 in 3.583131 seconds\n"
          ]
        }
      ]
    },
    {
      "cell_type": "code",
      "metadata": {
        "colab": {
          "base_uri": "https://localhost:8080/"
        },
        "id": "kD9l8frY6yA0",
        "outputId": "80cb34e1-5af0-4ef5-ca85-365a267f40de"
      },
      "source": [
        "%%writefile pi_integral_mpi.c\n",
        "\n",
        "#include <math.h>\n",
        "#include <stdlib.h>\n",
        "#include <string.h>\n",
        "#include <stdio.h>\n",
        "#include <unistd.h>\n",
        "#include <time.h>\n",
        "#include \"mpi.h\"\n",
        "\n",
        "int main(int argc, char *argv[])\n",
        "{\n",
        "\n",
        "\tint numtasks, rank;\n",
        "\tint result;\n",
        "\tint t;\n",
        "\n",
        "\n",
        "\n",
        "\t// Todos os processos iniciam a biblioteca e determinam seus ranks na aplicação\n",
        "\n",
        "\tresult = MPI_Init(&argc,&argv);\n",
        "\tif (result != MPI_SUCCESS) {\n",
        "\t\tfprintf(stderr,\"Erro iniciando MPI: %d\\n\",result);\n",
        "\t\tMPI_Abort(MPI_COMM_WORLD, result);\n",
        "\t}\n",
        "\tMPI_Comm_size(MPI_COMM_WORLD, &numtasks);\n",
        "\tMPI_Comm_rank(MPI_COMM_WORLD, &rank);\n",
        "\n",
        "\n",
        "\tif(rank==0) {\n",
        "\n",
        "\t   if(argc != 2){\n",
        "        printf(\"Usage: ./pi_seq N\\n\");\n",
        "        printf(\"N: Number of steps\\n\");\n",
        "        exit(-1);\n",
        "     }\n",
        "    int num_steps = atoi(argv[1]);\n",
        "    printf (\"Vai calcular Pi em %d passos \\n\",num_steps);\n",
        "\n",
        "\n",
        "      // Processo mestre deve compor o problema e dividí-lo\n",
        "\t\t\t// entre os workers\n",
        "\n",
        "\n",
        "\t\t\t// Mestre informa os demais sobre o seu \"sub-problema\"\n",
        "//\t\t\tfor (i= ... ; i < ... ; i++)\n",
        "//\t\t\t\tMPI_Send( & buffer , quantidade, MPI_INT, i, 1, MPI_COMM_WORLD);\n",
        "      // Mestre faz a sua parte do trabalho\n",
        "\n",
        "      // mestre recolhe os resultaod dos workers\n",
        "\n",
        "  \tfor(t=1; t < numtasks; t++)\n",
        "\t\t;\n",
        "//\t  \t\tMPI_Recv( & variavel, quantidade de dados, MPI_INT, t, 1, MPI_COMM_WORLD, MPI_STATUS_IGNORE);\n",
        "\n",
        "\t} else { // worker\n",
        "\n",
        "\t\t// Recebem informações sobre a sua parte do problema\n",
        "//\t\tMPI_Recv (&s_info, sizeof(s_info), MPI_INT, 0, MPI_ANY_TAG, MPI_COMM_WORLD, MPI_STATUS_IGNORE);\n",
        "\n",
        "\t\t// Worker faz a sua parte do trabalho\n",
        "\n",
        "\t\t// Worker devole resultado parcial para o mestre\n",
        "//\t\tMPI_Send( & ...., quantidade , MPI_INT, 0, 1, MPI_COMM_WORLD);\n",
        "\t}\n",
        "\n",
        "\tMPI_Finalize();\n",
        "\n",
        "\treturn(0);\n",
        "}\n"
      ],
      "execution_count": null,
      "outputs": [
        {
          "output_type": "stream",
          "name": "stdout",
          "text": [
            "Writing pi_integral_mpi.c\n"
          ]
        }
      ]
    },
    {
      "cell_type": "code",
      "metadata": {
        "id": "XkMXaSafS7l2",
        "colab": {
          "base_uri": "https://localhost:8080/"
        },
        "outputId": "637769db-48f1-45b4-c400-9849a2e890cc"
      },
      "source": [
        "# !if [ ! -e mult ]; then mpicc -Wall mult.c -o mult ; fi\n",
        "! mpicc -Wall pi_integral_mpi.c -o pi_integral_mpi\n",
        "# Execução com medição de tempo pelo comando time. Observe o tempo total decorrido (real)\n",
        "! time mpirun --allow-run-as-root -n 4 -host localhost:4 pi_integral_mpi 1000000000"
      ],
      "execution_count": null,
      "outputs": [
        {
          "output_type": "stream",
          "name": "stdout",
          "text": [
            "Vai calcular Pi em 1000000000 passos \n",
            "\n",
            "real\t0m0.423s\n",
            "user\t0m0.147s\n",
            "sys\t0m0.160s\n"
          ]
        }
      ]
    },
    {
      "cell_type": "markdown",
      "source": [
        "# Teste de primitivas do MPI\n",
        "\n",
        "No proximo programa, vamos criar um mestre e 4 workers, sendo que o mestre e=deve enviar um número inteiro para cada worker. Os workers devem exibir o que receberam."
      ],
      "metadata": {
        "id": "lzGA2lC98gFi"
      }
    },
    {
      "cell_type": "code",
      "source": [
        "%%writefile teste_primitivas.c\n",
        "\n",
        "#include <math.h>\n",
        "#include <stdlib.h>\n",
        "#include <string.h>\n",
        "#include <stdio.h>\n",
        "#include <unistd.h>\n",
        "#include <time.h>\n",
        "#include \"mpi.h\"\n",
        "\n",
        "int main(int argc, char *argv[])\n",
        "{\n",
        "\n",
        "\tint numtasks, rank, result, t, buffer, i;\n",
        "\n",
        "\t// Todos os processos iniciam a biblioteca e determinam seus ranks na aplicação\n",
        "\n",
        "\tresult = MPI_Init(&argc,&argv);\n",
        "\tif (result != MPI_SUCCESS) {\n",
        "\t\tfprintf(stderr,\"Erro iniciando MPI: %d\\n\",result);\n",
        "\t\tMPI_Abort(MPI_COMM_WORLD, result);\n",
        "\t}\n",
        "\tMPI_Comm_size(MPI_COMM_WORLD, &numtasks);\n",
        "\tMPI_Comm_rank(MPI_COMM_WORLD, &rank);\n",
        "\n",
        "\n",
        "\tif(rank==0) {\n",
        "\n",
        "    printf (\"Vai testar o envio de dados para os workers  \\n\");\n",
        "\n",
        "\t\t// Mestre envia dados para os workers\n",
        "  \tfor (i= 1; i < numtasks; i++) {\n",
        "      buffer = i * 10;\n",
        "      MPI_Send( & buffer , 1, MPI_INT, i, 1, MPI_COMM_WORLD);\n",
        "\n",
        "    }\n",
        "      // mestre recolhe os resultaod dos workers\n",
        "\n",
        "  \tfor(t=1; t < numtasks; t++) {\n",
        "\t  \t\tMPI_Recv( & buffer, 1, MPI_INT, t, 1, MPI_COMM_WORLD, MPI_STATUS_IGNORE);\n",
        "        printf (\"O dado %d foi recebido do worker % d \\n\",buffer,t);\n",
        "    }\n",
        "\t}\n",
        "\n",
        "\telse {\n",
        "\t\t// worker\n",
        "\n",
        "\t\t// Recebem informações sobre a sua parte do problema\n",
        "\t\tMPI_Recv (&buffer, 1, MPI_INT, 0, MPI_ANY_TAG, MPI_COMM_WORLD, MPI_STATUS_IGNORE);\n",
        "    printf(\"Processo %d recebeu %d \\n\",rank,buffer);\n",
        "    buffer = buffer * 2;\n",
        "\t\tMPI_Send( &buffer, 1, MPI_INT, 0, 1, MPI_COMM_WORLD);\n",
        "\t}\n",
        "\n",
        "\tMPI_Finalize();\n",
        "\n",
        "\treturn(0);\n",
        "}\n"
      ],
      "metadata": {
        "colab": {
          "base_uri": "https://localhost:8080/"
        },
        "id": "1uzdBPCN8VTf",
        "outputId": "a8aee424-a132-4c4e-ab17-d1804a62c09b"
      },
      "execution_count": null,
      "outputs": [
        {
          "output_type": "stream",
          "name": "stdout",
          "text": [
            "Overwriting teste_primitivas.c\n"
          ]
        }
      ]
    },
    {
      "cell_type": "code",
      "source": [
        "# !if [ ! -e mult ]; then mpicc -Wall mult.c -o mult ; fi\n",
        "! mpicc -Wall teste_primitivas.c -o teste_primitivas\n",
        "# Execução com medição de tempo pelo comando time. Observe o tempo total decorrido (real)\n",
        "! time mpirun --allow-run-as-root -n 5 -host localhost:5 teste_primitivas"
      ],
      "metadata": {
        "colab": {
          "base_uri": "https://localhost:8080/"
        },
        "id": "la40Qeqe9HWx",
        "outputId": "9e1919b2-7a9d-4b26-86d6-d15123905d08"
      },
      "execution_count": null,
      "outputs": [
        {
          "output_type": "stream",
          "name": "stdout",
          "text": [
            "Usage: ./pi_seq N\n",
            "N: Number of steps\n",
            "--------------------------------------------------------------------------\n",
            "Primary job  terminated normally, but 1 process returned\n",
            "a non-zero exit code. Per user-direction, the job has been aborted.\n",
            "--------------------------------------------------------------------------\n",
            "--------------------------------------------------------------------------\n",
            "mpirun detected that one or more processes exited with non-zero status, thus causing\n",
            "the job to be terminated. The first process to do so was:\n",
            "\n",
            "  Process name: [[1430,1],0]\n",
            "  Exit code:    255\n",
            "--------------------------------------------------------------------------\n",
            "\n",
            "real\t0m1.835s\n",
            "user\t0m0.060s\n",
            "sys\t0m0.096s\n"
          ]
        }
      ]
    }
  ]
}